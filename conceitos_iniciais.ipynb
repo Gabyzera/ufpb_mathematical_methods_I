{
 "cells": [
  {
   "cell_type": "code",
   "execution_count": null,
   "id": "84d59fe6",
   "metadata": {},
   "outputs": [],
   "source": [
    "import sympy as sp\n",
    "import matplotlib.pyplot as plt\n",
    "\n",
    "# 1. Define a fórmula do termo geral da sequência\n",
    "def a(n):\n",
    "    return 2**n\n",
    "\n",
    "# 2. Leitura de nmin e nmax com a validação entre eles\n",
    "while True:\n",
    "  nmin = int(input(\"Digite o nmin: \"))\n",
    "  nmax = int(input(\"Digite o nmax: \"))\n",
    "  if nmax >= nmin >= 0:\n",
    "    break\n",
    "  print(\"Valores inválidos. Digite novamente seguindo 0 <= nmin <= nmax.\")\n",
    "\n",
    "# 3. Escolha de execução    \n",
    "opcao = input(\"Você sabe o limite de convergência? (a = não sabe, b = sabe): \").strip().lower()\n",
    "if opcao == 'b':\n",
    "  L = float(input(\"Digite o limite L: \"))\n",
    "  e = float(input(\"Digite o valor de tolerancia e: \"))\n",
    "  # Garantir que N(e) seja válido\n",
    "  while True: \n",
    "    N_e = int(input(\"Digite o indice N(e) tal que para todo n >= N(e): |a(n)-L| <= e: \"))\n",
    "    # Verifica para todo n no intervalo [N_e, nmax]\n",
    "    if all(abs(a(n) - L) <= e for n in range((N_e), nmax+1)):\n",
    "      print(f\"OK: a partir de n = {N_e}, |a(n) - L| <= {e}\")\n",
    "      break\n",
    "    print(\"Esse N(e) não satisfaz |a(n)-L| <= e para todo n >= N(e). Tente outro valor.\")\n",
    "\n",
    "  # 3.1. Traça as linhas de toleraância no gráfico\n",
    "  plt.hlines(\n",
    "    [L-e, L, L+e],\n",
    "    xmin = nmin, xmax = nmax,\n",
    "    linestyles = '--', \n",
    "    linewidth = 1,\n",
    "    label = 'L +- e'\n",
    "  )\n",
    "  plt.legend()\n",
    "\n",
    "# 4. Gera e exibe a tabela\n",
    "print(\"  n  |   a(n)\")\n",
    "print(\"-----------------\")\n",
    "for n in (range(nmin, nmax+1)):\n",
    "    print(f\"{n:4d} | {a(n):.6f}\")\n",
    "\n",
    "# 5. Apresentação gráfica\n",
    "xs = list(range(nmin, nmax+1))\n",
    "ys = [a(n) for n in xs]\n",
    "\n",
    "plt.scatter(xs, ys)\n",
    "plt.xlabel(\"n\")\n",
    "plt.ylabel(\"a(n)\")\n",
    "plt.title(\"Gráfico da sequência\")\n",
    "\n",
    "plt.show()"
   ]
  },
  {
   "cell_type": "code",
   "execution_count": null,
   "id": "8de98f77",
   "metadata": {},
   "outputs": [],
   "source": [
    "n = sp.symbols('n', integer=True)\n",
    "sequencia = 2**n\n",
    "L = sp.limit(sequencia, n, sp.oo)\n",
    "print(\"O limite é \", L)"
   ]
  },
  {
   "cell_type": "code",
   "execution_count": null,
   "id": "c929422a",
   "metadata": {},
   "outputs": [],
   "source": [
    "e = 0.001\n",
    "N = next(i for i in range(1, 10000) if abs(a(i) - float(L)) <= e)\n",
    "print(f\"Menor N(e) para e={e:.3f}: N={N}\")"
   ]
  }
 ],
 "metadata": {
  "kernelspec": {
   "display_name": "Python 3",
   "language": "python",
   "name": "python3"
  },
  "language_info": {
   "codemirror_mode": {
    "name": "ipython",
    "version": 3
   },
   "file_extension": ".py",
   "mimetype": "text/x-python",
   "name": "python",
   "nbconvert_exporter": "python",
   "pygments_lexer": "ipython3",
   "version": "3.12.1"
  }
 },
 "nbformat": 4,
 "nbformat_minor": 5
}
